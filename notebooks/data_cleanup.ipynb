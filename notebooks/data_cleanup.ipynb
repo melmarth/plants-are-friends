{
 "cells": [
  {
   "cell_type": "markdown",
   "id": "842c1323-7152-4995-b2e6-314f235b6639",
   "metadata": {},
   "source": [
    "# Cleanup from csv\n",
    "Some cleanup was performed in Excel, such as filling in some missing data, so this will not a completely replicate the data used in the dashboard."
   ]
  },
  {
   "cell_type": "code",
   "execution_count": null,
   "id": "49356f96-d033-4283-902c-9c553b3a2860",
   "metadata": {},
   "outputs": [],
   "source": [
    "import pandas as pd\n",
    "import re\n",
    "import matplotlib.pyplot as plt"
   ]
  },
  {
   "cell_type": "code",
   "execution_count": null,
   "id": "ab92ef4d-2379-4c55-9362-715f48ae5548",
   "metadata": {},
   "outputs": [],
   "source": [
    "#read in the csv from data acquisition\n",
    "plants = pd.read_csv('plants3.csv')\n",
    "plants.info()"
   ]
  },
  {
   "cell_type": "markdown",
   "id": "55c23b43-62ff-41c6-85f6-f4cf6d239358",
   "metadata": {},
   "source": [
    "## Height and width"
   ]
  },
  {
   "cell_type": "code",
   "execution_count": null,
   "id": "13d928fe-7e41-40b0-b549-40e114eb19a5",
   "metadata": {},
   "outputs": [],
   "source": [
    "# Split height and width columns\n",
    "plants[['H1','W1']] = plants['Mature Size'].str.split('[,;]',expand=True)\n",
    "plants['H1'] = plants['H1'].str.replace('Height: ', '')\n",
    "plants['W1'] = plants['W1'].str.replace('Spread: ', '')\n",
    "plants['Height'] = plants['Height'].fillna(plants['H1'])\n",
    "plants['Width'] = plants['Height'].fillna(plants['W1'])"
   ]
  },
  {
   "cell_type": "code",
   "execution_count": null,
   "id": "0734cf02-e11d-4bbf-bf48-3788f7ddebeb",
   "metadata": {},
   "outputs": [],
   "source": [
    "plants = plants.drop(columns = ['Mature Size', 'H1', 'W1'])\n",
    "plants.info()"
   ]
  },
  {
   "cell_type": "markdown",
   "id": "fb03d463-f154-4801-b802-afba410d52d5",
   "metadata": {},
   "source": [
    "## Blooming times"
   ]
  },
  {
   "cell_type": "code",
   "execution_count": null,
   "id": "1e83f19f-c078-4d87-8f78-ce00b545b36a",
   "metadata": {},
   "outputs": [],
   "source": [
    "# blooming times may not be needed, but are cleaned up a bit anyways\n",
    "plants['Bloom season'] = plants['Bloom season'].fillna(plants['Bloom Time'])\n",
    "plants = plants.drop(columns = 'Bloom Time')\n",
    "plants.info()"
   ]
  },
  {
   "cell_type": "code",
   "execution_count": null,
   "id": "58b6febb-4158-4f49-93b9-0a723efdf6e5",
   "metadata": {},
   "outputs": [],
   "source": [
    "plants = plants.drop(columns = 'Unnamed: 0')"
   ]
  },
  {
   "cell_type": "code",
   "execution_count": null,
   "id": "6c2bd58c-8fe6-47fd-b2f3-9d5879caa224",
   "metadata": {
    "scrolled": true
   },
   "outputs": [],
   "source": [
    "# an error was found in the process...\n",
    "plants.loc[plants['Botanical Name'].str.find('Delosperma') > -1]"
   ]
  },
  {
   "cell_type": "code",
   "execution_count": null,
   "id": "e47b9a44-1811-4a79-bb4f-b3e631e2ca31",
   "metadata": {},
   "outputs": [],
   "source": [
    "# This row is wrong because the website has an error\n",
    "plants.loc[200, 'Botanical Name'] = 'Delosperma congestum'\n",
    "plants.loc[200, 'Common Name'] = 'White Nugget'\n",
    "plants.loc[200, 'Width'] = '8-12 inches'"
   ]
  },
  {
   "cell_type": "code",
   "execution_count": null,
   "id": "45c2ca64-d9c7-46cf-b472-ff528b62f36e",
   "metadata": {},
   "outputs": [],
   "source": [
    "# removes common name from Botanical Name column\n",
    "plants['Botanical Name'] = plants['Botanical Name'].fillna(plants['Common Name'])\n",
    "plants['Botanical Name'] = plants['Botanical Name'].str.replace(r'‘.*’','', regex=True)"
   ]
  },
  {
   "cell_type": "code",
   "execution_count": null,
   "id": "e218ad18-d0e9-4278-a3ec-2c1d8c1e2ae1",
   "metadata": {},
   "outputs": [],
   "source": [
    "# check for more \n",
    "plants.loc[plants['Common Name'].str.find('‘') > -1]"
   ]
  },
  {
   "cell_type": "markdown",
   "id": "93c38999-e0a1-4756-8bb9-f58d0fcda553",
   "metadata": {},
   "source": [
    "## Plant Types"
   ]
  },
  {
   "cell_type": "code",
   "execution_count": null,
   "id": "89772fd2-6193-4fec-a7ac-7a2abed6711a",
   "metadata": {},
   "outputs": [],
   "source": [
    "# Consolidate the plant types into reasonable categories\n",
    "plants['Type'] = plants['Plant Type']\n",
    "plants.loc[(plants['Family'].str.find('Cactaceae') > -1),'Type'] = 'Cactus'\n",
    "plants['Type'] = plants['Type'].str.title()\n",
    "plants['Type'] = plants['Type'].str.replace(',*\\s*[Pp]erennial[;,]*\\s*','',regex=True)\n",
    "plants.loc[plants['Type'].isin(['Flowering Succulent','Succulent Evergreen','Succulent, House Plant']),'Type'] = 'Succulent'\n",
    "plants['Type'] = plants['Type'].str.replace('Epiphytic Fern','Epiphyte')\n",
    "plants.loc[(plants['Type'].str.len() < 3), 'Type'] = 'Other'"
   ]
  },
  {
   "cell_type": "code",
   "execution_count": null,
   "id": "aa7882ae-2867-44a6-be03-e8ddab99b476",
   "metadata": {},
   "outputs": [],
   "source": [
    "plants.loc[plants['Type'] == 'Cactus – Succulents, Shrubs']"
   ]
  },
  {
   "cell_type": "markdown",
   "id": "f0dbf62f-7844-4fc7-81b0-12a2d3f173e4",
   "metadata": {},
   "source": [
    "## Light Conditions"
   ]
  },
  {
   "cell_type": "code",
   "execution_count": null,
   "id": "7845865a-9c1c-498c-88d0-76dc0c40f3d4",
   "metadata": {},
   "outputs": [],
   "source": [
    "# Condense the light conditions\n",
    "plants['Light'] = plants['Light'].str.title()\n",
    "plants.loc[plants['Light'].isin(['Full Sun, Partial Shade','Full Sun To Partial Shade','Full Sun, Partial Sun',\n",
    "                                 'Full Sun, Part Shade','Full Sun Or Partial Shade','Part Shade To Full Sun',\n",
    "                                 'Full Sun To Part Shade']),'Light'] = 'Full Sun To Part Shade'\n",
    "plants.loc[plants['Light'].isin(['Partial Shade','Part Shade, Part Sun']),'Light'] = 'Part Shade'\n",
    "plants['Light'] = plants['Light'].str.replace('Partial Or Dappled Shade','Light Shade to Part Shade')\n",
    "plants['Light'] = plants['Light'].str.replace('Bright, Direct.*','Direct Light')\n",
    "plants.loc[plants['Light'].isin(['Full Sun, Light Shade','Full Sun To Bright Shade','Full Sun, Bright Shade',\n",
    "                                 'Full Sun Or Light Shade']),'Light'] = 'Full Sun to Light Shade'\n",
    "plants.loc[plants['Light'].isin(['Part Shade To Full Shade','Part Shade Or Deep Shade']),'Light'] = 'Part Shade to Full Shade'\n",
    "plants['Light'] = plants['Light'].str.replace('Sunlight','Light')\n",
    "plants.loc[plants['Light'].isin(['Bright Light','Direct Light','Bright, Direct Light','Bright, Full Sun']),'Light'] = 'Full Sun'\n",
    "plants['Light'] = plants['Light'].str.replace('Full Sun, Dappled Sun, Part Shade, Deep Shade','Full Sun to Full Shade')\n",
    "\n",
    "# more light changes\n",
    "plants.loc[(plants['Light'] == 'Full Sun, Dappled Sun, Partial Shade, Deep Shade'),'Light'] = 'Full Sun to Full Shade'\n",
    "plants.loc[(plants['Light'] == 'Partial Shade To Full Shade'),'Light'] = 'Part Shade to Full Shade'\n",
    "plants.loc[(plants['Light'] == 'Full Sun To Part Shade'),'Light'] = 'Full Sun to Part Shade'"
   ]
  },
  {
   "cell_type": "code",
   "execution_count": null,
   "id": "4aab46ee-0e0b-41ad-b98e-38b60913b6b7",
   "metadata": {},
   "outputs": [],
   "source": [
    "# Ok now I want to add a numerical column based on 100-Full Sun, 75- light shade, 50-Part Shade, 25-Full Shade \n",
    "plants['Minimum Light'] = 100\n",
    "plants.loc[(plants['Light'].str.find('Light Shade') >-1),'Minimum Light'] = 75\n",
    "plants.loc[(plants['Light'].str.find('Indirect') >-1),'Minimum Light'] = 75\n",
    "plants.loc[(plants['Light'].str.find('Part Shade') >-1),'Minimum Light'] = 50\n",
    "plants.loc[(plants['Light'].str.find('Full Shade') >-1),'Minimum Light'] = 25"
   ]
  },
  {
   "cell_type": "code",
   "execution_count": null,
   "id": "c15da60d-6b01-4a53-aca6-f8355214bb21",
   "metadata": {},
   "outputs": [],
   "source": [
    "# and a maximum light column as well\n",
    "plants['Maximum Light'] = 75\n",
    "plants.loc[(plants['Light'].str.find('Full Sun') >-1),'Maximum Light'] = 100\n",
    "plants.loc[(plants['Light'] == 'Part Shade'),'Maximum Light'] = 50\n",
    "plants.loc[(plants['Light'] == 'Part Shade to Full Shade'),'Maximum Light'] = 50\n",
    "plants.loc[(plants['Light'] == 'Bright, Indirect Light'),'Maximum Light'] = 100"
   ]
  },
  {
   "cell_type": "markdown",
   "id": "ab4d5c3f-7f55-4cdb-984e-f47c1f030880",
   "metadata": {},
   "source": [
    "## Water needs"
   ]
  },
  {
   "cell_type": "code",
   "execution_count": null,
   "id": "3dc432d9-71af-4efa-b119-1b37f3663690",
   "metadata": {},
   "outputs": [],
   "source": [
    "# Water needs is next\n",
    "plants['Water needs'] = plants['Water needs'].str.replace('Low/Average','Low to Moderate')\n",
    "plants['Water needs'] = plants['Water needs'].str.replace('Low, Moderate','Low to Moderate')\n",
    "plants['Water needs'] = plants['Water needs'].str.replace('Low to Average','Low to Moderate')\n",
    "plants['Water needs'] = plants['Water needs'].str.replace('Low/Moderate','Low to Moderate')"
   ]
  },
  {
   "cell_type": "markdown",
   "id": "1ff4ef14-b8e5-4c85-a6b1-c9711912c9c0",
   "metadata": {},
   "source": [
    "## Soil"
   ]
  },
  {
   "cell_type": "code",
   "execution_count": null,
   "id": "8da001d1-672b-44ea-8207-f92fd4b97d6f",
   "metadata": {},
   "outputs": [],
   "source": [
    "# Condense the soil types\n",
    "plants['Soil'] = plants['Soil'].str.title()\n",
    "plants['Soil'] = plants['Soil'].str.replace('\\s?Well[-\\s]Drained\\s?','', regex=True)\n",
    "plants['Soil'] = plants['Soil'].str.replace('\\s?Good[-\\s]Drainage\\s?','', regex=True)\n",
    "plants.loc[plants['Soil'].isin([', Loamy, Sandy',', Loam, Sand',', Sandy/Loamy','; Loam, Sand']),'Soil'] = 'Loamy, Sandy'\n",
    "plants.loc[plants['Soil'].isin([', Loamy','Loamy, ','Loamy,']),'Soil'] = 'Loamy'\n",
    "plants.loc[plants['Soil'].isin(['Moist, Well–Drained','Moist, ','Moist,',', Moist','Moist ',', Slightly Moist','Medium Moisture,']),'Soil'] = 'Moist'\n",
    "plants['Soil'] = plants['Soil'].str.replace(',$','', regex=True)\n",
    "plants['Soil'] = plants['Soil'].str.replace('Moist,, Fertile & Loamy','Moist, Fertile, Loamy')\n",
    "plants['Soil'] = plants['Soil'].str.replace('Or ','or ')\n",
    "plants.loc[plants['Soil'].isnull(), 'Soil'] = 'None'\n",
    "plants.loc[(plants['Soil'] == ''),'Soil'] = 'Regular'\n",
    "plants.loc[(plants['Soil'].isin(['Sandy','Occasionally Dry','Porous'])),'Soil'] = 'Loamy, Sandy'"
   ]
  },
  {
   "cell_type": "markdown",
   "id": "18676b49-1f76-4173-bf67-3bc6ca3b4076",
   "metadata": {},
   "source": [
    "## Tolerance"
   ]
  },
  {
   "cell_type": "code",
   "execution_count": null,
   "id": "ae094210-963c-4b18-baf8-dd1d4b48935e",
   "metadata": {},
   "outputs": [],
   "source": [
    "# Condense drought tolerant and remove deer/rabbit as it's not relevant for target demographic\n",
    "plants['Tolerant'] = plants['Tolerant'].str.replace(',?\\s?Deer,?','', regex=True)\n",
    "plants['Tolerant'] = plants['Tolerant'].str.replace(',?\\s?Rabbit,?','', regex=True)\n",
    "plants['Tolerant'] = plants['Tolerant'].str.replace('^\\s','', regex=True)\n",
    "plants.loc[plants['Tolerant'].isin(['Drought, Dry soil','Drought Dry Soil','Drought Rocky Soil',\n",
    "                                    'Drought, Dry or Rocky Soil',' Drought, Rocky Soil']),'Tolerant'] = 'Drought'\n",
    "plants['Tolerant'] = plants['Tolerant'].str.replace('Drought Salt','Drought, Salt')"
   ]
  },
  {
   "cell_type": "code",
   "execution_count": null,
   "id": "aed52342-e50b-480d-bfeb-9fb422b757c3",
   "metadata": {},
   "outputs": [],
   "source": [
    "plants['Neglect Tolerant'] = 'No'\n",
    "plants.loc[plants['Tolerant'].str.find('Drought') > -1,'Neglect Tolerant'] = 'Yes'"
   ]
  },
  {
   "cell_type": "markdown",
   "id": "4f31d666-fab3-43b1-b130-d5abd2e5e42d",
   "metadata": {},
   "source": [
    "## Toxicity"
   ]
  },
  {
   "cell_type": "code",
   "execution_count": null,
   "id": "f1282401-071e-4c77-91b9-11c6dfe569fc",
   "metadata": {},
   "outputs": [],
   "source": [
    "# Translate toxicity to common terms default on higher rating (for safety)\n",
    "plants['Toxicity'] = plants['Toxicity'].str.title()\n",
    "plants.loc[plants['Toxicity'].isin(['Mildly-Toxic','Mildly Toxic','Low Severity','Low']),'Toxicity'] = 'Mild'\n",
    "plants.loc[plants['Toxicity'].isin(['Moderately Toxic','Medium Severity']),'Toxicity'] = 'Moderate'\n",
    "plants.loc[plants['Toxicity'].isin(['Toxic','Toxic To Humans, Horses, Dogs, And Cats','Toxic To Dogs, Toxic To Cats',]),'Toxicity'] = 'High'\n",
    "plants.loc[plants['Toxicity'].isin(['Non-Toxic','No','Non-Toxic To Pets']),'Toxicity'] = 'None'\n",
    "plants['Toxicity'] = plants['Toxicity'].str.replace('Severely Toxic','Severe')\n",
    "\n",
    "# Some straglers I looked up\n",
    "plants.loc[plants['Common Name'] == 'Flaming Katy, Christmas kalanchoe, Florist kalanchoe, Madagascar widow’s thrill','Toxicity'] = 'High'\n",
    "plants.loc[plants['Common Name'] == 'Rat Tail Cactus','Toxicity'] = 'Mild'\n",
    "plants.loc[plants['Common Name'] == 'Rose Painted Calathea, Black Rose, Jungle rose','Toxicity'] = 'None'\n",
    "plants.loc[plants['Common Name'] == 'Peanut Cactus','Toxicity'] = 'None'"
   ]
  },
  {
   "cell_type": "markdown",
   "id": "c1387fee-5d0d-4c36-9a82-8441fa3e1b38",
   "metadata": {},
   "source": [
    "## Hardiness zones"
   ]
  },
  {
   "cell_type": "code",
   "execution_count": null,
   "id": "3494c1a6-8e61-4328-a1af-36d4d6ff17d4",
   "metadata": {},
   "outputs": [],
   "source": [
    "# Split hardiness into two columns for min and max\n",
    "# convert to same delimeter, split on spaces\n",
    "plants['Hardiness (USDA)'] = plants['Hardiness (USDA)'].str.replace('\\s?(-|to|–)\\s?',' to ', regex=True)\n",
    "plants[['Low Temp','High Temp']] = plants['Hardiness (USDA)'].str.split(' to ',expand=True)\n",
    "\n",
    "# remove b from high and a from low\n",
    "plants['Low Temp'] = plants['Low Temp'].str.replace('[Aa\\s]','', regex=True)\n",
    "plants['High Temp'] = plants['High Temp'].str.replace('[Bb\\s]','', regex=True)\n",
    "\n",
    "# low temp dictionary\n",
    "temp_dict_low = {'3':-40,'4':-30,'5':-20,'6':-10,'7':0,'7b':5,'8':10,'9':20,'9b':25,'10':30,'10b':35,'11':40,'':''}\n",
    "\n",
    "# high temp dictionary\n",
    "temp_dict_high = {'8':20,'9':30,'10':40,'11a':45,'11':50,'12':60,'13':70,'':''}\n",
    "\n",
    "# translate with the dictionaries to degrees F\n",
    "plants['Low Temp'] = plants['Low Temp'].fillna('')\n",
    "plants['Low Temp'] = [temp_dict_low[x] for x in list(plants['Low Temp'])]\n",
    "plants['High Temp'] = plants['High Temp'].fillna('')\n",
    "plants['High Temp'] = [temp_dict_high[x] for x in list(plants['High Temp'])]"
   ]
  },
  {
   "cell_type": "markdown",
   "id": "f28af5c5-92bd-46e4-badf-9cca40da34f9",
   "metadata": {},
   "source": [
    "## Further cleanup on blooming\n",
    "This isn't used in the final analysis but it might be nice to have"
   ]
  },
  {
   "cell_type": "code",
   "execution_count": null,
   "id": "24fb0836-8323-4a42-b9d3-42b3402cdee3",
   "metadata": {},
   "outputs": [],
   "source": [
    "# clean up blooming seasons\n",
    "plants['Bloom season'] = plants['Bloom season'].str.replace('Fall','Autumn')\n",
    "plants['Bloom season'] = plants['Bloom season'].str.replace('\\([Rr]are.*\\)',', Rare', regex=True)\n",
    "plants['Bloom season'] = plants['Bloom season'].str.replace('\\s?\\(.*\\)','', regex=True)\n",
    "plants['Bloom season'] = plants['Bloom season'].str.replace('(Late |Early )','', regex=True)\n",
    "plants.loc[plants['Bloom season'].isin(['Year-round','Autumn, Spring, Summer, Winter',\n",
    "                                        'Any time of the year']),'Bloom season'] = 'Spring, Summer, Autumn, Winter'\n",
    "plants['Bloom season'] = plants['Bloom season'].str.replace('\\s,',',', regex=True)\n",
    "\n",
    "# probably a better way to put them in order, order doesn't even matter really\n",
    "plants['Bloom season'] = plants['Bloom season'].str.replace('Winter, Spring', 'Spring, Winter')\n",
    "plants['Bloom season'] = plants['Bloom season'].str.replace('Winter, Summer', 'Summer, Winter')\n",
    "plants['Bloom season'] = plants['Bloom season'].str.replace('Summer, Spring', 'Spring, Summer')\n",
    "\n",
    "# rarely\n",
    "plants['Bloom season'] = plants['Bloom season'].str.replace('Rarely flowers indoors', 'Rare')\n",
    "plants['Bloom season'] = plants['Bloom season'].str.replace(' and', ',')\n",
    "\n",
    "# months to seasons\n",
    "plants['Bloom season'] = plants['Bloom season'].str.replace('April to December', 'Spring, Summer, Autumn')\n",
    "plants['Bloom season'] = plants['Bloom season'].str.replace('May to Jun', 'Summer')\n",
    "plants['Bloom season'] = plants['Bloom season'].str.replace('September to October', 'Autumn')\n",
    "plants['Bloom season'] = plants['Bloom season'].str.replace('July to August', 'Summer')\n",
    "plants['Bloom season'] = plants['Bloom season'].str.replace('Easter to Christmas', 'Spring, Summer, Autumn')\n",
    "plants['Bloom season'] = plants['Bloom season'].str.replace('Summere', 'Summer')"
   ]
  },
  {
   "cell_type": "code",
   "execution_count": null,
   "id": "7272e08a-521a-4174-b005-572db9f28c48",
   "metadata": {},
   "outputs": [],
   "source": [
    "# take care of the ones that just say \"seasonal\"\n",
    "plants.loc[plants['Common Name'] == 'Rose Painted Calathea, Black Rose, Jungle rose','Bloom season'] = 'Rare'\n",
    "plants.loc[plants['Common Name'].isin(['Bush Lily, Natal Lily, Kaffir Lily',\n",
    "                                       'Jade Plant, Money Plant, Lucky Plant, Money Tree']),'Bloom season'] = 'Spring, Winter'\n",
    "plants.loc[plants['Common Name'].isin(['Pineapple, bananas, pina','Watermelon Peperomia, Watermelon Begonia',\n",
    "                                       'Crown of Thorns, Christ Plant, Christ Thorn',\n",
    "                                       'Ghost Plant, Mother of Pearl Plant']),'Bloom season'] = 'Spring, Summer'\n",
    "plants.loc[plants['Botanical Name'] == 'Beaucarnea recurvata','Bloom season'] = 'Rare'\n",
    "plants.loc[plants['Botanical Name'] == 'Dracaena marginata','Bloom season'] = 'Spring, Summer'\n"
   ]
  },
  {
   "cell_type": "markdown",
   "id": "10377c1c-5dac-44b8-be16-73c07014661f",
   "metadata": {},
   "source": [
    "## Uncomment and run this cell to save to csv"
   ]
  },
  {
   "cell_type": "code",
   "execution_count": null,
   "id": "a05e67a8-96cf-4ace-b4f4-502b6801a0bb",
   "metadata": {},
   "outputs": [],
   "source": [
    "#plants.to_csv('plants_clean.csv')"
   ]
  }
 ],
 "metadata": {
  "kernelspec": {
   "display_name": "Python 3 (ipykernel)",
   "language": "python",
   "name": "python3"
  },
  "language_info": {
   "codemirror_mode": {
    "name": "ipython",
    "version": 3
   },
   "file_extension": ".py",
   "mimetype": "text/x-python",
   "name": "python",
   "nbconvert_exporter": "python",
   "pygments_lexer": "ipython3",
   "version": "3.11.7"
  }
 },
 "nbformat": 4,
 "nbformat_minor": 5
}
