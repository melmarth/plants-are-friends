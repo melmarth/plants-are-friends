{
 "cells": [
  {
   "cell_type": "code",
   "execution_count": 1,
   "id": "0747fbe2-ef18-4aaf-96bd-53d05c7d4373",
   "metadata": {},
   "outputs": [],
   "source": [
    "import pandas as pd\n",
    "import re"
   ]
  },
  {
   "cell_type": "markdown",
   "id": "043247c6-8ff9-4342-a0f9-66b7692805c6",
   "metadata": {},
   "source": [
    "# Cleanup!"
   ]
  },
  {
   "cell_type": "code",
   "execution_count": 15,
   "id": "8f552a37-b9a6-46ee-8c41-4fae8da823bd",
   "metadata": {},
   "outputs": [],
   "source": [
    "plants = pd.read_csv('plants_clean2.csv')"
   ]
  },
  {
   "cell_type": "code",
   "execution_count": 17,
   "id": "a50bd0a3-4731-451b-b278-964173f7e9fc",
   "metadata": {},
   "outputs": [
    {
     "name": "stdout",
     "output_type": "stream",
     "text": [
      "<class 'pandas.core.frame.DataFrame'>\n",
      "RangeIndex: 235 entries, 0 to 234\n",
      "Data columns (total 30 columns):\n",
      " #   Column                 Non-Null Count  Dtype \n",
      "---  ------                 --------------  ----- \n",
      " 0   Number                 235 non-null    int64 \n",
      " 1   Botanical Name         235 non-null    object\n",
      " 2   Common Name            235 non-null    object\n",
      " 3   Family                 235 non-null    object\n",
      " 4   Plant Type             235 non-null    object\n",
      " 5   Origin                 235 non-null    object\n",
      " 6   North American Origin  235 non-null    object\n",
      " 7   Maintenance            235 non-null    object\n",
      " 8   Height                 235 non-null    object\n",
      " 9   Width                  235 non-null    object\n",
      " 10  Size                   235 non-null    object\n",
      " 11  Light                  235 non-null    object\n",
      " 12  Bloom season           226 non-null    object\n",
      " 13  Water needs            235 non-null    object\n",
      " 14  Soil                   235 non-null    object\n",
      " 15  Tolerant               213 non-null    object\n",
      " 16  Toxicity               235 non-null    object\n",
      " 17  Hardiness (USDA)       235 non-null    object\n",
      " 18  Bloom color            153 non-null    object\n",
      " 19  Synonyms               60 non-null     object\n",
      " 20  Genus                  74 non-null     object\n",
      " 21  Foliage                79 non-null     object\n",
      " 22  Propagation methods    80 non-null     object\n",
      " 23  href                   235 non-null    object\n",
      " 24  Type                   235 non-null    object\n",
      " 25  Minimum Light          235 non-null    int64 \n",
      " 26  Maximum Light          235 non-null    int64 \n",
      " 27  Low Temp               235 non-null    int64 \n",
      " 28  High Temp              235 non-null    int64 \n",
      " 29  Neglect Tolerant       235 non-null    object\n",
      "dtypes: int64(5), object(25)\n",
      "memory usage: 55.2+ KB\n"
     ]
    }
   ],
   "source": [
    "plants.info()"
   ]
  },
  {
   "cell_type": "code",
   "execution_count": null,
   "id": "279fd52d-2852-4443-a92f-992921c46ceb",
   "metadata": {},
   "outputs": [],
   "source": []
  }
 ],
 "metadata": {
  "kernelspec": {
   "display_name": "Python 3 (ipykernel)",
   "language": "python",
   "name": "python3"
  },
  "language_info": {
   "codemirror_mode": {
    "name": "ipython",
    "version": 3
   },
   "file_extension": ".py",
   "mimetype": "text/x-python",
   "name": "python",
   "nbconvert_exporter": "python",
   "pygments_lexer": "ipython3",
   "version": "3.11.7"
  }
 },
 "nbformat": 4,
 "nbformat_minor": 5
}
